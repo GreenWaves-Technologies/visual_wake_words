{
 "cells": [
  {
   "cell_type": "code",
   "execution_count": null,
   "id": "48b78a36-e09e-440b-94c9-55df48c00436",
   "metadata": {},
   "outputs": [],
   "source": [
    "from nntool.api import NNGraph\n",
    "from PIL import Image\n",
    "import numpy as np"
   ]
  },
  {
   "cell_type": "code",
   "execution_count": null,
   "id": "b3e882be-c198-45af-bf72-e9c2fcaf8814",
   "metadata": {},
   "outputs": [],
   "source": [
    "G = NNGraph.load_graph(\"models/vww_96_int8.tflite\", load_quantization=True)\n",
    "G.name = \"vww\"\n",
    "G.adjust_order()\n",
    "G.fusions(\"scaled_match_group\")"
   ]
  },
  {
   "cell_type": "code",
   "execution_count": null,
   "id": "1247df29-8637-4e88-b4e6-b9e909d0f004",
   "metadata": {},
   "outputs": [],
   "source": [
    "G.quantize(\n",
    "    graph_options={\"use_ne16\": True},\n",
    ")"
   ]
  },
  {
   "cell_type": "code",
   "execution_count": null,
   "id": "6914f2c6-7475-4449-853d-3ba3f874768e",
   "metadata": {},
   "outputs": [],
   "source": [
    "G.insert_resizer(\n",
    "    \"input_1\", (240, 320), \"bilinear\"\n",
    ")\n",
    "#G.adjust_order()"
   ]
  },
  {
   "cell_type": "code",
   "execution_count": null,
   "id": "8c1590ab-3455-43d4-9328-15588c618091",
   "metadata": {},
   "outputs": [],
   "source": [
    "G.qshow([G[0]])\n",
    "G.show([G[0]])"
   ]
  },
  {
   "cell_type": "code",
   "execution_count": null,
   "id": "f578f897-e012-4b52-85e6-362d547d9e35",
   "metadata": {},
   "outputs": [],
   "source": [
    "img = Image.open(\"images/COCO_val2014_000000174838_1.ppm\").resize((320, 240))\n",
    "#img.show()\n",
    "input_data = (np.array(img) / 255) #.transpose(2, 0, 1)\n",
    "input_data.min(), input_data.max()"
   ]
  },
  {
   "cell_type": "code",
   "execution_count": null,
   "id": "de6a21d9-681e-471d-8ccf-43e4eb4cc22e",
   "metadata": {},
   "outputs": [],
   "source": [
    "fout = G.execute([input_data])\n",
    "dqout = G.execute([input_data], dequantize=True)\n",
    "qout = G.execute([input_data], dequantize=False, quantize=True)"
   ]
  },
  {
   "cell_type": "code",
   "execution_count": null,
   "id": "280bc539-f17f-4d68-b49a-37bad91aa386",
   "metadata": {},
   "outputs": [],
   "source": [
    "#G.qsnrs(fout, dqout)\n",
    "qout[-1][0]"
   ]
  },
  {
   "cell_type": "code",
   "execution_count": null,
   "id": "6eb481c2-48b1-49e6-8654-f3a5b0e6a59d",
   "metadata": {},
   "outputs": [],
   "source": [
    "#G.show(show_constants=True)"
   ]
  },
  {
   "cell_type": "code",
   "execution_count": null,
   "id": "5b67ba07-12e2-4ace-a9a5-b708ec2f81f2",
   "metadata": {},
   "outputs": [],
   "source": [
    "#G['model_conv2d_13_Conv2D'].at_options.force_stop_l1_promotion = True\n",
    "G[0].allocate = True\n",
    "res = G.execute_on_target(\n",
    "    input_tensors=qout[0],\n",
    "    directory=\"/tmp/test_vww\",\n",
    "    settings={\n",
    "        \"tensor_directory\": \"at_model/tensors\",\n",
    "        \"model_directory\": \"at_model\",\n",
    "        'l1_size': 128000,\n",
    "        'l2_size': 1300000,\n",
    "        'l3_flash_device': 'AT_MEM_L3_MRAMFLASH',\n",
    "        'cluster_stack_size': 1024,\n",
    "        'cluster_slave_stack_size': 512,\n",
    "        'graph_l1_promotion': 1,\n",
    "    },\n",
    "    at_loglevel=2,\n",
    "    memory=True,\n",
    "    print_output=True\n",
    ")"
   ]
  },
  {
   "cell_type": "code",
   "execution_count": null,
   "id": "8cffdb90-1afc-4f78-a60e-8158c56cca01",
   "metadata": {},
   "outputs": [],
   "source": [
    "G.qsnrs(qout, res.output_tensors)"
   ]
  },
  {
   "cell_type": "code",
   "execution_count": null,
   "id": "4807b2f8-c6bf-448b-8ed6-b74749337167",
   "metadata": {},
   "outputs": [],
   "source": [
    "Image.fromarray(res.output_tensors[2][0]).show()\n",
    "Image.fromarray(qout[2][0]).show()"
   ]
  },
  {
   "cell_type": "code",
   "execution_count": null,
   "id": "9861b754-8a3b-46c1-803a-0c2afe68130e",
   "metadata": {},
   "outputs": [],
   "source": [
    "%matplotlib widget\n",
    "import matplotlib\n",
    "matplotlib.rcParams.update({'font.size': 12})\n",
    "res.plot_memory_boxes(figsize=(10,15))"
   ]
  },
  {
   "cell_type": "code",
   "execution_count": null,
   "id": "4e3ecc10-20ad-4f41-a194-d194138932db",
   "metadata": {},
   "outputs": [],
   "source": [
    "G.draw()"
   ]
  },
  {
   "cell_type": "code",
   "execution_count": null,
   "id": "4131d88f-817d-45d9-9fe0-b33773d230a8",
   "metadata": {},
   "outputs": [],
   "source": []
  }
 ],
 "metadata": {
  "kernelspec": {
   "display_name": "Python 3 (ipykernel)",
   "language": "python",
   "name": "python3"
  },
  "language_info": {
   "codemirror_mode": {
    "name": "ipython",
    "version": 3
   },
   "file_extension": ".py",
   "mimetype": "text/x-python",
   "name": "python",
   "nbconvert_exporter": "python",
   "pygments_lexer": "ipython3",
   "version": "3.10.9"
  }
 },
 "nbformat": 4,
 "nbformat_minor": 5
}
